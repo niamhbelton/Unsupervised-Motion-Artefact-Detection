{
 "cells": [
  {
   "cell_type": "code",
   "execution_count": 7,
   "metadata": {},
   "outputs": [],
   "source": [
    "import numpy as np\n",
    "import matplotlib.pyplot as plt\n",
    "import cv2\n",
    "import os \n",
    "import numpy as np\n",
    "import pandas as pd\n",
    "import nibabel as nib\n",
    "from PIL import Image\n",
    "import shutil\n"
   ]
  },
  {
   "cell_type": "code",
   "execution_count": 4,
   "metadata": {},
   "outputs": [],
   "source": [
    "output = '/home/<user>/motion/data/mrart/png/' #path to store png files \n",
    "os.mkdir(output)\n",
    "os.mkdir(output + 'ones/')\n",
    "os.mkdir(output + 'twos/')\n",
    "os.mkdir(output + 'threes/')\n",
    "shutil.copy(root+ '/derivatives/scores.tsv', output) #copy the scores file to new path"
   ]
  },
  {
   "cell_type": "code",
   "execution_count": 6,
   "metadata": {},
   "outputs": [],
   "source": [
    "root = '/home/<user>/motion/data/mrart/ds004173-download/' #path to where data is stored\n",
    "scores = pd.read_csv(root+ '/derivatives/scores.tsv', sep='\\t')\n",
    "\n",
    "\n",
    "for i,file in enumerate(scores['bids_name']):\n",
    "    file_path = root+ '/' + file.split('_') [0] + '/anat/' + file + '.nii.gz'\n",
    "    if scores.iloc[i, 1] == 1:\n",
    "        folder = 'ones/'\n",
    "    elif scores.iloc[i, 1] == 2:\n",
    "        folder = 'twos/'\n",
    "    elif scores.iloc[i, 1] == 3:\n",
    "        folder = 'threes/'\n",
    "        \n",
    "    img = nib.load(file_path)\n",
    "    img = np.uint8(np.array(img.dataobj))\n",
    "    for slices in range(img.shape[0]):\n",
    "        im = Image.fromarray(img[slices])\n",
    "        output_file = output  + folder + file + '_slice_' + str(slices) + '.png'\n",
    "        im.save(output_file)\n",
    "   "
   ]
  },
  {
   "cell_type": "code",
   "execution_count": null,
   "metadata": {},
   "outputs": [],
   "source": []
  }
 ],
 "metadata": {
  "kernelspec": {
   "display_name": "Python 3",
   "language": "python",
   "name": "python3"
  },
  "language_info": {
   "codemirror_mode": {
    "name": "ipython",
    "version": 3
   },
   "file_extension": ".py",
   "mimetype": "text/x-python",
   "name": "python",
   "nbconvert_exporter": "python",
   "pygments_lexer": "ipython3",
   "version": "3.8.3"
  }
 },
 "nbformat": 4,
 "nbformat_minor": 4
}
